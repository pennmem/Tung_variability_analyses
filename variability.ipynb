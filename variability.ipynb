{
 "cells": [
  {
   "cell_type": "code",
   "execution_count": 62,
   "metadata": {},
   "outputs": [],
   "source": [
    "from ptsa.data.TimeSeriesX import TimeSeriesX\n",
    "from ptsa.data.common import xr\n",
    "import numpy as np\n",
    "import glob\n",
    "import scipy"
   ]
  },
  {
   "cell_type": "code",
   "execution_count": 135,
   "metadata": {},
   "outputs": [],
   "source": [
    "import pandas as pd\n",
    "rhino_root = '/Volumes/RHINO'\n",
    "from ptsa.data.readers import BaseEventReader\n",
    "import tables\n",
    "events = BaseEventReader(filename=rhino_root + '/data/eeg/scalp/ltp/ltpFR2/behavioral/events/events_all_LTP093.mat',common_root='data').read()\n",
    "events = pd.DataFrame.from_records([e for e in events],columns = events.dtype.names)"
   ]
  },
  {
   "cell_type": "code",
   "execution_count": 136,
   "metadata": {},
   "outputs": [
    {
     "name": "stdout",
     "output_type": "stream",
     "text": [
      "Index([u'subject', u'session', u'trial', u'type', u'serialpos',\n",
      "       u'begin_distractor', u'begin_math_correct', u'final_distractor',\n",
      "       u'final_math_correct', u'item', u'itemno', u'recalled', u'intruded',\n",
      "       u'rectime', u'intrusion', u'mstime', u'msoffset', u'eegfile',\n",
      "       u'eegoffset', u'artifactMS', u'artifactNum', u'artifactFrac',\n",
      "       u'artifactMeanMS', u'badEvent', u'badEventChannel'],\n",
      "      dtype='object')\n"
     ]
    }
   ],
   "source": [
    "print events"
   ]
  },
  {
   "cell_type": "code",
   "execution_count": 137,
   "metadata": {},
   "outputs": [
    {
     "name": "stdout",
     "output_type": "stream",
     "text": [
      "0        -999.0\n",
      "1        -999.0\n",
      "2        -999.0\n",
      "3        -999.0\n",
      "4        -999.0\n",
      "5        -999.0\n",
      "6        -999.0\n",
      "7        -999.0\n",
      "8        -999.0\n",
      "9        -999.0\n",
      "10       -999.0\n",
      "11       -999.0\n",
      "12       -999.0\n",
      "13       -999.0\n",
      "14       -999.0\n",
      "15       -999.0\n",
      "16       -999.0\n",
      "17       -999.0\n",
      "18       -999.0\n",
      "19       -999.0\n",
      "20       -999.0\n",
      "21       -999.0\n",
      "22       -999.0\n",
      "23       -999.0\n",
      "24       -999.0\n",
      "25       -999.0\n",
      "26       1014.0\n",
      "27       1711.0\n",
      "28       2679.0\n",
      "29       3811.0\n",
      "          ...  \n",
      "19750    -999.0\n",
      "19751    -999.0\n",
      "19752    -999.0\n",
      "19753    -999.0\n",
      "19754    -999.0\n",
      "19755    -999.0\n",
      "19756    -999.0\n",
      "19757    -999.0\n",
      "19758    -999.0\n",
      "19759    -999.0\n",
      "19760    -999.0\n",
      "19761    -999.0\n",
      "19762    -999.0\n",
      "19763    -999.0\n",
      "19764    -999.0\n",
      "19765    -999.0\n",
      "19766    -999.0\n",
      "19767    -999.0\n",
      "19768    -999.0\n",
      "19769    -999.0\n",
      "19770    -999.0\n",
      "19771    -999.0\n",
      "19772     441.0\n",
      "19773     982.0\n",
      "19774    1537.0\n",
      "19775    2937.0\n",
      "19776    3582.0\n",
      "19777    4126.0\n",
      "19778    5315.0\n",
      "19779    5806.0\n",
      "Name: rectime, Length: 19780, dtype: float64\n"
     ]
    }
   ],
   "source": [
    "print events['rectime']"
   ]
  },
  {
   "cell_type": "code",
   "execution_count": 51,
   "metadata": {},
   "outputs": [
    {
     "name": "stdout",
     "output_type": "stream",
     "text": [
      "a    0.0\n",
      "b    0.0\n",
      "Name: 0, dtype: float64\n"
     ]
    }
   ],
   "source": [
    "a = np.arange(10)\n",
    "b = np.linspace(0,1,10)\n",
    "dataframe = pd.DataFrame({'a':a, 'b':b})\n",
    "print dataframe.loc[0]"
   ]
  },
  {
   "cell_type": "code",
   "execution_count": 52,
   "metadata": {},
   "outputs": [
    {
     "name": "stdout",
     "output_type": "stream",
     "text": [
      "<xarray.DataArray (dim_0: 2, dim_1: 3)>\n",
      "array([[-1.681881, -1.562026, -0.654929],\n",
      "       [ 1.446629,  1.98721 ,  1.950876]])\n",
      "Dimensions without coordinates: dim_0, dim_1\n"
     ]
    }
   ],
   "source": [
    "# xarray\n",
    "a = xr.DataArray(np.random.randn(2, 3))\n",
    "print a"
   ]
  },
  {
   "cell_type": "code",
   "execution_count": 63,
   "metadata": {
    "collapsed": true
   },
   "outputs": [],
   "source": [
    "def get_ltpFR2_precall(files_ltpFR2):\n",
    "\n",
    "    \"\"\"This function gets the recall probability of each word for each participant\n",
    "    dimenstions should be N participants * 576 words \"\"\"\n",
    "\n",
    "    # determining whether each word is recalled or not when it is presented to the participant\n",
    "    # dimenstions should be (576 words * times word was presented (23) for each participant\n",
    "\n",
    "    def count_recalls(rec_mat, pres_mat):\n",
    "        word_id_recalled_or_not_this_part = []\n",
    "        # print(\"rec mat\", rec_mat)\n",
    "        for word_id in np.unique(pres_mat):\n",
    "            #print(\"Word ID:\", word_id)\n",
    "            word_id_recalled_or_not_this_part.append(rec_mat[np.where((pres_mat) == word_id)])\n",
    "        #print(\"Shape Word id this part\", np.shape(word_id_recalled_or_not_this_part))\n",
    "        #print(word_id_recalled_or_not_this_part)\n",
    "        return word_id_recalled_or_not_this_part\n",
    "\n",
    "    all_participants_all_recalled = []\n",
    "\n",
    "    # Do this for every participant\n",
    "    for f in files_ltpFR2:\n",
    "        # Read in data\n",
    "        test_mat_file = scipy.io.loadmat(f, squeeze_me=True, struct_as_record=False)\n",
    "        if isinstance(test_mat_file['data'], np.ndarray):\n",
    "            #print('Skipping...')\n",
    "            continue\n",
    "        session_mat = test_mat_file['data'].session\n",
    "        # print(len(session_mat))\n",
    "        # print(np.bincount(session_mat))\n",
    "        if len(session_mat) < 576:\n",
    "            print('Skipping because participant did not finish...')\n",
    "            continue\n",
    "        else:\n",
    "            print(f)\n",
    "            pres_mat = test_mat_file['data'].pres_itemnos.astype('int16')\n",
    "            pres_mat = pres_mat[np.where(session_mat != 24)]\n",
    "            rec_mat = test_mat_file['data'].pres.recalled\n",
    "            # rec_mat = rec_mat[np.where(session_mat != 24)]\n",
    "            # print(\"Legth of pres_mat\", (pres_mat).shape)\n",
    "            # print(\"Length of rec_mat\", (rec_mat).shape)\n",
    "\n",
    "        # print(\"Pres mat\", pres_mat)\n",
    "        # print(\"Rec mat\", rec_mat)\n",
    "        #print(rec_mat.shape)\n",
    "\n",
    "        # For each list of this participant's data\n",
    "        this_participant_probs = []\n",
    "\n",
    "        word_id_recalled_this_part = count_recalls(rec_mat, pres_mat)\n",
    "\n",
    "        # Append this partic p_rec to everyone else\n",
    "        all_participants_all_recalled.append(np.nanmean(word_id_recalled_this_part, axis = 1))\n",
    "\n",
    "    #Get the average of all participants\n",
    "    return all_participants_all_recalled"
   ]
  },
  {
   "cell_type": "code",
   "execution_count": 90,
   "metadata": {},
   "outputs": [
    {
     "name": "stdout",
     "output_type": "stream",
     "text": [
      "['/Volumes/RHINO/data/eeg/scalp/ltp/ltpFR2/behavioral/data/stat_data_LTP214.mat', '/Volumes/RHINO/data/eeg/scalp/ltp/ltpFR2/behavioral/data/stat_data_LTP320.mat', '/Volumes/RHINO/data/eeg/scalp/ltp/ltpFR2/behavioral/data/stat_data_LTP309.mat', '/Volumes/RHINO/data/eeg/scalp/ltp/ltpFR2/behavioral/data/stat_data_LTP281.mat', '/Volumes/RHINO/data/eeg/scalp/ltp/ltpFR2/behavioral/data/stat_data_LTP242.mat', '/Volumes/RHINO/data/eeg/scalp/ltp/ltpFR2/behavioral/data/stat_data_LTP308.mat', '/Volumes/RHINO/data/eeg/scalp/ltp/ltpFR2/behavioral/data/stat_data_LTP325.mat', '/Volumes/RHINO/data/eeg/scalp/ltp/ltpFR2/behavioral/data/stat_data_LTP315.mat', '/Volumes/RHINO/data/eeg/scalp/ltp/ltpFR2/behavioral/data/stat_data_LTP314.mat', '/Volumes/RHINO/data/eeg/scalp/ltp/ltpFR2/behavioral/data/stat_data_LTP274.mat']\n"
     ]
    }
   ],
   "source": [
    "files_ltpFR2 = glob.glob(rhino_root + '/data/eeg/scalp/ltp/ltpFR2/behavioral/data/stat_data_LTP*.mat')\n",
    "print files_ltpFR2[0:10]\n",
    "# all_participants_all_recalled = get_ltpFR2_precall(files_ltpFR2[0:15])\n",
    "# print(all_participants_all_recalled)\n",
    "# print(\"Shape of all participants all recalled\", np.shape(all_participants_all_recalled))"
   ]
  },
  {
   "cell_type": "code",
   "execution_count": 119,
   "metadata": {},
   "outputs": [
    {
     "name": "stdout",
     "output_type": "stream",
     "text": [
      "<type 'dict'>\n"
     ]
    }
   ],
   "source": [
    "path = rhino_root + '/data/eeg/scalp/ltp/ltpFR2/behavioral/data/stat_data_LTP093.mat'\n",
    "datamat = scipy.io.loadmat(path)\n",
    "print type(datamat)"
   ]
  },
  {
   "cell_type": "code",
   "execution_count": 138,
   "metadata": {},
   "outputs": [],
   "source": [
    "path = rhino_root + '/data/eeg/scalp/ltp/ltpFR2/subj_and_sess_info.mat'\n",
    "datamat = scipy.io.loadmat(path)\n"
   ]
  },
  {
   "cell_type": "code",
   "execution_count": 169,
   "metadata": {},
   "outputs": [
    {
     "name": "stdout",
     "output_type": "stream",
     "text": [
      "[[  2.]\n",
      " [  8.]\n",
      " [  7.]\n",
      " ..., \n",
      " [ 12.]\n",
      " [  3.]\n",
      " [ 30.]]\n"
     ]
    }
   ],
   "source": [
    "\n",
    "print datamat['sess_info'][0,0]['day']\n"
   ]
  },
  {
   "cell_type": "code",
   "execution_count": null,
   "metadata": {},
   "outputs": [],
   "source": []
  },
  {
   "cell_type": "code",
   "execution_count": null,
   "metadata": {
    "collapsed": true
   },
   "outputs": [],
   "source": []
  }
 ],
 "metadata": {
  "kernelspec": {
   "display_name": "Python 2",
   "language": "python",
   "name": "python2"
  },
  "language_info": {
   "codemirror_mode": {
    "name": "ipython",
    "version": 2
   },
   "file_extension": ".py",
   "mimetype": "text/x-python",
   "name": "python",
   "nbconvert_exporter": "python",
   "pygments_lexer": "ipython2",
   "version": "2.7.12"
  }
 },
 "nbformat": 4,
 "nbformat_minor": 2
}
